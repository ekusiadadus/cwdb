{
 "cells": [
  {
   "cell_type": "code",
   "execution_count": 3,
   "metadata": {},
   "outputs": [
    {
     "name": "stderr",
     "output_type": "stream",
     "text": [
      "Failed to detect the name of this notebook, you can set it manually with the WANDB_NOTEBOOK_NAME environment variable to enable code saving.\n",
      "\u001b[34m\u001b[1mwandb\u001b[0m: Streaming LangChain activity to W&B at https://wandb.ai/ekusiadadus/wandb_prompts/runs/5gwseth1\n",
      "\u001b[34m\u001b[1mwandb\u001b[0m: `WandbTracer` is currently in beta.\n",
      "\u001b[34m\u001b[1mwandb\u001b[0m: Please report any issues to https://github.com/wandb/wandb/issues with the tag `langchain`.\n",
      "\u001b[34m\u001b[1mwandb\u001b[0m: \u001b[33mWARNING\u001b[0m This feature is deprecated and has been moved to `langchain`. Enable tracing by setting LANGCHAIN_WANDB_TRACING=true in your environment. See the documentation at https://python.langchain.com/docs/ecosystem/integrations/agent_with_wandb_tracing for guidance. Replace your current import with `from langchain.callbacks.tracers import WandbTracer`.\n"
     ]
    },
    {
     "data": {
      "text/plain": [
       "<wandb.integration.langchain.wandb_tracer.WandbTracer at 0x7f219e894250>"
      ]
     },
     "execution_count": 3,
     "metadata": {},
     "output_type": "execute_result"
    }
   ],
   "source": [
    "from wandb.integration.langchain import WandbTracer\n",
    "\n",
    "WandbTracer({\"project\": \"wandb_prompts\"})"
   ]
  },
  {
   "cell_type": "code",
   "execution_count": 4,
   "metadata": {},
   "outputs": [],
   "source": [
    "from langchain.llms import OpenAI\n",
    "from langchain.agents import load_tools, initialize_agent, AgentType\n",
    "\n",
    "llm = OpenAI(temperature=0)\n",
    "tools = load_tools([\"llm-math\"], llm=llm)\n",
    "math_agent = initialize_agent(tools, llm, agent=AgentType.ZERO_SHOT_REACT_DESCRIPTION)"
   ]
  },
  {
   "cell_type": "code",
   "execution_count": 5,
   "metadata": {},
   "outputs": [
    {
     "name": "stdout",
     "output_type": "stream",
     "text": [
      "5.4\n",
      "0.0601528552483744\n",
      "1.358658856137205\n"
     ]
    }
   ],
   "source": [
    "questions = [\n",
    "    \"5.4の平方根を求めてください。\",\n",
    "    \"3を7.34で割った数をπのべき乗にしてください。\",\n",
    "    \"0.47ラジアンのsinを27の立方根で割ってください。\"\n",
    "]\n",
    "\n",
    "for question in questions:\n",
    "  try:\n",
    "    answer = math_agent.run(question)\n",
    "    print(answer)\n",
    "  except Exception as e:\n",
    "    print(e)\n",
    "    pass"
   ]
  },
  {
   "cell_type": "code",
   "execution_count": 6,
   "metadata": {},
   "outputs": [
    {
     "ename": "TypeError",
     "evalue": "WandbTracer.finish() missing 1 required positional argument: 'self'",
     "output_type": "error",
     "traceback": [
      "\u001b[0;31m---------------------------------------------------------------------------\u001b[0m",
      "\u001b[0;31mTypeError\u001b[0m                                 Traceback (most recent call last)",
      "Cell \u001b[0;32mIn[6], line 1\u001b[0m\n\u001b[0;32m----> 1\u001b[0m WandbTracer\u001b[39m.\u001b[39;49mfinish()\n",
      "\u001b[0;31mTypeError\u001b[0m: WandbTracer.finish() missing 1 required positional argument: 'self'"
     ]
    }
   ],
   "source": [
    "WandbTracer.finish()"
   ]
  }
 ],
 "metadata": {
  "kernelspec": {
   "display_name": "Python 3",
   "language": "python",
   "name": "python3"
  },
  "language_info": {
   "codemirror_mode": {
    "name": "ipython",
    "version": 3
   },
   "file_extension": ".py",
   "mimetype": "text/x-python",
   "name": "python",
   "nbconvert_exporter": "python",
   "pygments_lexer": "ipython3",
   "version": "3.10.12"
  },
  "orig_nbformat": 4
 },
 "nbformat": 4,
 "nbformat_minor": 2
}
